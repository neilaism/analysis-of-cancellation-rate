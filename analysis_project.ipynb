{
 "cells": [
  {
   "cell_type": "markdown",
   "metadata": {},
   "source": [
    "# Problem Statement\n",
    "The objective of this analysis is to:\n",
    "\n",
    "Identify customer types and distribution channels with the highest booking cancellation rates, and explore the contributing factors in order to recommend effective marketing strategies that aim to reduce the cancellation rate by 10% within the next 6 months."
   ]
  },
  {
   "cell_type": "markdown",
   "metadata": {},
   "source": [
    "## SMART Framework\n",
    "    Specific: Analyze historical booking data to determine the key factors that influence booking cancellations using statistical, inferential, and visualization methods.\n",
    "\n",
    "    Measurable: Focus on customer segments and distribution channels where the cancellation rate exceeds 20%, with the goal of reducing these rates to 10% or lower.\n",
    "\n",
    "    Achievable: Use existing data from 2015–2017 to design targeted strategies for mitigating cancellations.\n",
    "\n",
    "    Relevant: Understanding which customers and booking channels are most prone to cancellations is crucial for building a sustainable marketing approach.\n",
    "\n",
    "    Time-bound: The research, analysis, and implementation of the recommendations are expected to be completed and produce measurable impact within six months."
   ]
  },
  {
   "cell_type": "markdown",
   "metadata": {},
   "source": [
    "## Key Analytical Questions (5W + 1H)\n",
    "    What is the difference in booking cancellation rates between City Hotels and Resort Hotels?\n",
    "\n",
    "    Why do guests cancel their bookings?\n",
    "\n",
    "    Who are the customer segments with the highest cancellation rates?\n",
    "\n",
    "    Where do cancellations occur most frequently—within a specific hotel type or channel?\n",
    "\n",
    "    How have cancellation trends evolved from 2015 to 2017?\n",
    "\n",
    "    How much does guest loyalty (i.e., repeated bookings) correlate with cancellation behavior?"
   ]
  },
  {
   "cell_type": "markdown",
   "metadata": {},
   "source": [
    "## Stakeholders\n",
    "Primary Stakeholders: ASD Group’s Sales and Marketing Team, who will use the insights and recommendations to tailor customer communication, promotional offers, and booking policies to reduce cancellations."
   ]
  },
  {
   "cell_type": "markdown",
   "metadata": {},
   "source": [
    "# Import Libraries\n",
    "\n",
    "In this section, I’m importing the libraries required to process the dataset, perform statistical analysis, and visualize the results. Some of the key libraries include Pandas for data manipulation, Matplotlib/Seaborn for plotting, and Scipy for statistic thing."
   ]
  },
  {
   "cell_type": "code",
   "execution_count": 1,
   "metadata": {},
   "outputs": [],
   "source": [
    "# import libraries needed\n",
    "\n",
    "import pandas as pd\n",
    "from scipy import stats\n",
    "import matplotlib.pyplot as plt\n",
    "import seaborn as sns"
   ]
  },
  {
   "cell_type": "markdown",
   "metadata": {},
   "source": [
    "# Data Loading\n",
    "\n",
    "In this section, I'm loading the Hotel Booking Demand dataset (CSV format) that I previously downloaded from Kaggle."
   ]
  },
  {
   "cell_type": "code",
   "execution_count": 2,
   "metadata": {},
   "outputs": [
    {
     "data": {
      "text/html": [
       "<div>\n",
       "<style scoped>\n",
       "    .dataframe tbody tr th:only-of-type {\n",
       "        vertical-align: middle;\n",
       "    }\n",
       "\n",
       "    .dataframe tbody tr th {\n",
       "        vertical-align: top;\n",
       "    }\n",
       "\n",
       "    .dataframe thead th {\n",
       "        text-align: right;\n",
       "    }\n",
       "</style>\n",
       "<table border=\"1\" class=\"dataframe\">\n",
       "  <thead>\n",
       "    <tr style=\"text-align: right;\">\n",
       "      <th></th>\n",
       "      <th>hotel</th>\n",
       "      <th>is_canceled</th>\n",
       "      <th>lead_time</th>\n",
       "      <th>arrival_date_year</th>\n",
       "      <th>arrival_date_month</th>\n",
       "      <th>arrival_date_week_number</th>\n",
       "      <th>arrival_date_day_of_month</th>\n",
       "      <th>stays_in_weekend_nights</th>\n",
       "      <th>stays_in_week_nights</th>\n",
       "      <th>adults</th>\n",
       "      <th>...</th>\n",
       "      <th>deposit_type</th>\n",
       "      <th>agent</th>\n",
       "      <th>company</th>\n",
       "      <th>days_in_waiting_list</th>\n",
       "      <th>customer_type</th>\n",
       "      <th>adr</th>\n",
       "      <th>required_car_parking_spaces</th>\n",
       "      <th>total_of_special_requests</th>\n",
       "      <th>reservation_status</th>\n",
       "      <th>reservation_status_date</th>\n",
       "    </tr>\n",
       "  </thead>\n",
       "  <tbody>\n",
       "    <tr>\n",
       "      <th>0</th>\n",
       "      <td>Resort Hotel</td>\n",
       "      <td>0</td>\n",
       "      <td>342</td>\n",
       "      <td>2015</td>\n",
       "      <td>July</td>\n",
       "      <td>27</td>\n",
       "      <td>1</td>\n",
       "      <td>0</td>\n",
       "      <td>0</td>\n",
       "      <td>2</td>\n",
       "      <td>...</td>\n",
       "      <td>No Deposit</td>\n",
       "      <td>NaN</td>\n",
       "      <td>NaN</td>\n",
       "      <td>0</td>\n",
       "      <td>Transient</td>\n",
       "      <td>0.00</td>\n",
       "      <td>0</td>\n",
       "      <td>0</td>\n",
       "      <td>Check-Out</td>\n",
       "      <td>2015-07-01</td>\n",
       "    </tr>\n",
       "    <tr>\n",
       "      <th>1</th>\n",
       "      <td>Resort Hotel</td>\n",
       "      <td>0</td>\n",
       "      <td>737</td>\n",
       "      <td>2015</td>\n",
       "      <td>July</td>\n",
       "      <td>27</td>\n",
       "      <td>1</td>\n",
       "      <td>0</td>\n",
       "      <td>0</td>\n",
       "      <td>2</td>\n",
       "      <td>...</td>\n",
       "      <td>No Deposit</td>\n",
       "      <td>NaN</td>\n",
       "      <td>NaN</td>\n",
       "      <td>0</td>\n",
       "      <td>Transient</td>\n",
       "      <td>0.00</td>\n",
       "      <td>0</td>\n",
       "      <td>0</td>\n",
       "      <td>Check-Out</td>\n",
       "      <td>2015-07-01</td>\n",
       "    </tr>\n",
       "    <tr>\n",
       "      <th>2</th>\n",
       "      <td>Resort Hotel</td>\n",
       "      <td>0</td>\n",
       "      <td>7</td>\n",
       "      <td>2015</td>\n",
       "      <td>July</td>\n",
       "      <td>27</td>\n",
       "      <td>1</td>\n",
       "      <td>0</td>\n",
       "      <td>1</td>\n",
       "      <td>1</td>\n",
       "      <td>...</td>\n",
       "      <td>No Deposit</td>\n",
       "      <td>NaN</td>\n",
       "      <td>NaN</td>\n",
       "      <td>0</td>\n",
       "      <td>Transient</td>\n",
       "      <td>75.00</td>\n",
       "      <td>0</td>\n",
       "      <td>0</td>\n",
       "      <td>Check-Out</td>\n",
       "      <td>2015-07-02</td>\n",
       "    </tr>\n",
       "    <tr>\n",
       "      <th>3</th>\n",
       "      <td>Resort Hotel</td>\n",
       "      <td>0</td>\n",
       "      <td>13</td>\n",
       "      <td>2015</td>\n",
       "      <td>July</td>\n",
       "      <td>27</td>\n",
       "      <td>1</td>\n",
       "      <td>0</td>\n",
       "      <td>1</td>\n",
       "      <td>1</td>\n",
       "      <td>...</td>\n",
       "      <td>No Deposit</td>\n",
       "      <td>304.0</td>\n",
       "      <td>NaN</td>\n",
       "      <td>0</td>\n",
       "      <td>Transient</td>\n",
       "      <td>75.00</td>\n",
       "      <td>0</td>\n",
       "      <td>0</td>\n",
       "      <td>Check-Out</td>\n",
       "      <td>2015-07-02</td>\n",
       "    </tr>\n",
       "    <tr>\n",
       "      <th>4</th>\n",
       "      <td>Resort Hotel</td>\n",
       "      <td>0</td>\n",
       "      <td>14</td>\n",
       "      <td>2015</td>\n",
       "      <td>July</td>\n",
       "      <td>27</td>\n",
       "      <td>1</td>\n",
       "      <td>0</td>\n",
       "      <td>2</td>\n",
       "      <td>2</td>\n",
       "      <td>...</td>\n",
       "      <td>No Deposit</td>\n",
       "      <td>240.0</td>\n",
       "      <td>NaN</td>\n",
       "      <td>0</td>\n",
       "      <td>Transient</td>\n",
       "      <td>98.00</td>\n",
       "      <td>0</td>\n",
       "      <td>1</td>\n",
       "      <td>Check-Out</td>\n",
       "      <td>2015-07-03</td>\n",
       "    </tr>\n",
       "    <tr>\n",
       "      <th>...</th>\n",
       "      <td>...</td>\n",
       "      <td>...</td>\n",
       "      <td>...</td>\n",
       "      <td>...</td>\n",
       "      <td>...</td>\n",
       "      <td>...</td>\n",
       "      <td>...</td>\n",
       "      <td>...</td>\n",
       "      <td>...</td>\n",
       "      <td>...</td>\n",
       "      <td>...</td>\n",
       "      <td>...</td>\n",
       "      <td>...</td>\n",
       "      <td>...</td>\n",
       "      <td>...</td>\n",
       "      <td>...</td>\n",
       "      <td>...</td>\n",
       "      <td>...</td>\n",
       "      <td>...</td>\n",
       "      <td>...</td>\n",
       "      <td>...</td>\n",
       "    </tr>\n",
       "    <tr>\n",
       "      <th>119385</th>\n",
       "      <td>City Hotel</td>\n",
       "      <td>0</td>\n",
       "      <td>23</td>\n",
       "      <td>2017</td>\n",
       "      <td>August</td>\n",
       "      <td>35</td>\n",
       "      <td>30</td>\n",
       "      <td>2</td>\n",
       "      <td>5</td>\n",
       "      <td>2</td>\n",
       "      <td>...</td>\n",
       "      <td>No Deposit</td>\n",
       "      <td>394.0</td>\n",
       "      <td>NaN</td>\n",
       "      <td>0</td>\n",
       "      <td>Transient</td>\n",
       "      <td>96.14</td>\n",
       "      <td>0</td>\n",
       "      <td>0</td>\n",
       "      <td>Check-Out</td>\n",
       "      <td>2017-09-06</td>\n",
       "    </tr>\n",
       "    <tr>\n",
       "      <th>119386</th>\n",
       "      <td>City Hotel</td>\n",
       "      <td>0</td>\n",
       "      <td>102</td>\n",
       "      <td>2017</td>\n",
       "      <td>August</td>\n",
       "      <td>35</td>\n",
       "      <td>31</td>\n",
       "      <td>2</td>\n",
       "      <td>5</td>\n",
       "      <td>3</td>\n",
       "      <td>...</td>\n",
       "      <td>No Deposit</td>\n",
       "      <td>9.0</td>\n",
       "      <td>NaN</td>\n",
       "      <td>0</td>\n",
       "      <td>Transient</td>\n",
       "      <td>225.43</td>\n",
       "      <td>0</td>\n",
       "      <td>2</td>\n",
       "      <td>Check-Out</td>\n",
       "      <td>2017-09-07</td>\n",
       "    </tr>\n",
       "    <tr>\n",
       "      <th>119387</th>\n",
       "      <td>City Hotel</td>\n",
       "      <td>0</td>\n",
       "      <td>34</td>\n",
       "      <td>2017</td>\n",
       "      <td>August</td>\n",
       "      <td>35</td>\n",
       "      <td>31</td>\n",
       "      <td>2</td>\n",
       "      <td>5</td>\n",
       "      <td>2</td>\n",
       "      <td>...</td>\n",
       "      <td>No Deposit</td>\n",
       "      <td>9.0</td>\n",
       "      <td>NaN</td>\n",
       "      <td>0</td>\n",
       "      <td>Transient</td>\n",
       "      <td>157.71</td>\n",
       "      <td>0</td>\n",
       "      <td>4</td>\n",
       "      <td>Check-Out</td>\n",
       "      <td>2017-09-07</td>\n",
       "    </tr>\n",
       "    <tr>\n",
       "      <th>119388</th>\n",
       "      <td>City Hotel</td>\n",
       "      <td>0</td>\n",
       "      <td>109</td>\n",
       "      <td>2017</td>\n",
       "      <td>August</td>\n",
       "      <td>35</td>\n",
       "      <td>31</td>\n",
       "      <td>2</td>\n",
       "      <td>5</td>\n",
       "      <td>2</td>\n",
       "      <td>...</td>\n",
       "      <td>No Deposit</td>\n",
       "      <td>89.0</td>\n",
       "      <td>NaN</td>\n",
       "      <td>0</td>\n",
       "      <td>Transient</td>\n",
       "      <td>104.40</td>\n",
       "      <td>0</td>\n",
       "      <td>0</td>\n",
       "      <td>Check-Out</td>\n",
       "      <td>2017-09-07</td>\n",
       "    </tr>\n",
       "    <tr>\n",
       "      <th>119389</th>\n",
       "      <td>City Hotel</td>\n",
       "      <td>0</td>\n",
       "      <td>205</td>\n",
       "      <td>2017</td>\n",
       "      <td>August</td>\n",
       "      <td>35</td>\n",
       "      <td>29</td>\n",
       "      <td>2</td>\n",
       "      <td>7</td>\n",
       "      <td>2</td>\n",
       "      <td>...</td>\n",
       "      <td>No Deposit</td>\n",
       "      <td>9.0</td>\n",
       "      <td>NaN</td>\n",
       "      <td>0</td>\n",
       "      <td>Transient</td>\n",
       "      <td>151.20</td>\n",
       "      <td>0</td>\n",
       "      <td>2</td>\n",
       "      <td>Check-Out</td>\n",
       "      <td>2017-09-07</td>\n",
       "    </tr>\n",
       "  </tbody>\n",
       "</table>\n",
       "<p>119390 rows × 32 columns</p>\n",
       "</div>"
      ],
      "text/plain": [
       "               hotel  is_canceled  lead_time  arrival_date_year  \\\n",
       "0       Resort Hotel            0        342               2015   \n",
       "1       Resort Hotel            0        737               2015   \n",
       "2       Resort Hotel            0          7               2015   \n",
       "3       Resort Hotel            0         13               2015   \n",
       "4       Resort Hotel            0         14               2015   \n",
       "...              ...          ...        ...                ...   \n",
       "119385    City Hotel            0         23               2017   \n",
       "119386    City Hotel            0        102               2017   \n",
       "119387    City Hotel            0         34               2017   \n",
       "119388    City Hotel            0        109               2017   \n",
       "119389    City Hotel            0        205               2017   \n",
       "\n",
       "       arrival_date_month  arrival_date_week_number  \\\n",
       "0                    July                        27   \n",
       "1                    July                        27   \n",
       "2                    July                        27   \n",
       "3                    July                        27   \n",
       "4                    July                        27   \n",
       "...                   ...                       ...   \n",
       "119385             August                        35   \n",
       "119386             August                        35   \n",
       "119387             August                        35   \n",
       "119388             August                        35   \n",
       "119389             August                        35   \n",
       "\n",
       "        arrival_date_day_of_month  stays_in_weekend_nights  \\\n",
       "0                               1                        0   \n",
       "1                               1                        0   \n",
       "2                               1                        0   \n",
       "3                               1                        0   \n",
       "4                               1                        0   \n",
       "...                           ...                      ...   \n",
       "119385                         30                        2   \n",
       "119386                         31                        2   \n",
       "119387                         31                        2   \n",
       "119388                         31                        2   \n",
       "119389                         29                        2   \n",
       "\n",
       "        stays_in_week_nights  adults  ...  deposit_type  agent company  \\\n",
       "0                          0       2  ...    No Deposit    NaN     NaN   \n",
       "1                          0       2  ...    No Deposit    NaN     NaN   \n",
       "2                          1       1  ...    No Deposit    NaN     NaN   \n",
       "3                          1       1  ...    No Deposit  304.0     NaN   \n",
       "4                          2       2  ...    No Deposit  240.0     NaN   \n",
       "...                      ...     ...  ...           ...    ...     ...   \n",
       "119385                     5       2  ...    No Deposit  394.0     NaN   \n",
       "119386                     5       3  ...    No Deposit    9.0     NaN   \n",
       "119387                     5       2  ...    No Deposit    9.0     NaN   \n",
       "119388                     5       2  ...    No Deposit   89.0     NaN   \n",
       "119389                     7       2  ...    No Deposit    9.0     NaN   \n",
       "\n",
       "       days_in_waiting_list customer_type     adr  \\\n",
       "0                         0     Transient    0.00   \n",
       "1                         0     Transient    0.00   \n",
       "2                         0     Transient   75.00   \n",
       "3                         0     Transient   75.00   \n",
       "4                         0     Transient   98.00   \n",
       "...                     ...           ...     ...   \n",
       "119385                    0     Transient   96.14   \n",
       "119386                    0     Transient  225.43   \n",
       "119387                    0     Transient  157.71   \n",
       "119388                    0     Transient  104.40   \n",
       "119389                    0     Transient  151.20   \n",
       "\n",
       "        required_car_parking_spaces  total_of_special_requests  \\\n",
       "0                                 0                          0   \n",
       "1                                 0                          0   \n",
       "2                                 0                          0   \n",
       "3                                 0                          0   \n",
       "4                                 0                          1   \n",
       "...                             ...                        ...   \n",
       "119385                            0                          0   \n",
       "119386                            0                          2   \n",
       "119387                            0                          4   \n",
       "119388                            0                          0   \n",
       "119389                            0                          2   \n",
       "\n",
       "        reservation_status reservation_status_date  \n",
       "0                Check-Out              2015-07-01  \n",
       "1                Check-Out              2015-07-01  \n",
       "2                Check-Out              2015-07-02  \n",
       "3                Check-Out              2015-07-02  \n",
       "4                Check-Out              2015-07-03  \n",
       "...                    ...                     ...  \n",
       "119385           Check-Out              2017-09-06  \n",
       "119386           Check-Out              2017-09-07  \n",
       "119387           Check-Out              2017-09-07  \n",
       "119388           Check-Out              2017-09-07  \n",
       "119389           Check-Out              2017-09-07  \n",
       "\n",
       "[119390 rows x 32 columns]"
      ]
     },
     "execution_count": 2,
     "metadata": {},
     "output_type": "execute_result"
    }
   ],
   "source": [
    "# reading csv\n",
    "\n",
    "df = pd.read_csv(\"hotel_bookings.csv\")\n",
    "df"
   ]
  },
  {
   "cell_type": "markdown",
   "metadata": {},
   "source": [
    "# Data Exploratory\n",
    "\n",
    "In this section, I will explore the dataset to understand its structure and contents. This includes checking the columns and their meanings, getting general info about the data, identifying any missing values, and so on."
   ]
  },
  {
   "cell_type": "markdown",
   "metadata": {},
   "source": [
    "## Columns Checking\n",
    "\n",
    "This section will be checking the columns and explain their meanings."
   ]
  },
  {
   "cell_type": "code",
   "execution_count": 3,
   "metadata": {},
   "outputs": [
    {
     "data": {
      "text/plain": [
       "Index(['hotel', 'is_canceled', 'lead_time', 'arrival_date_year',\n",
       "       'arrival_date_month', 'arrival_date_week_number',\n",
       "       'arrival_date_day_of_month', 'stays_in_weekend_nights',\n",
       "       'stays_in_week_nights', 'adults', 'children', 'babies', 'meal',\n",
       "       'country', 'market_segment', 'distribution_channel',\n",
       "       'is_repeated_guest', 'previous_cancellations',\n",
       "       'previous_bookings_not_canceled', 'reserved_room_type',\n",
       "       'assigned_room_type', 'booking_changes', 'deposit_type', 'agent',\n",
       "       'company', 'days_in_waiting_list', 'customer_type', 'adr',\n",
       "       'required_car_parking_spaces', 'total_of_special_requests',\n",
       "       'reservation_status', 'reservation_status_date'],\n",
       "      dtype='object')"
      ]
     },
     "execution_count": 3,
     "metadata": {},
     "output_type": "execute_result"
    }
   ],
   "source": [
    "# show all columns in df\n",
    "df.columns"
   ]
  },
  {
   "cell_type": "markdown",
   "metadata": {},
   "source": [
    "As we can see from output, there are the names of 32 columns in this dataset. I will provide a brief explanation of each column in the dataset to help understand their meaning.\n",
    "\n",
    "- 'hotel': Type of hotel.\n",
    "- 'is_canceled': Indicates if the booking was canceled or not. 1 for canceled and 0 for completed (checked-out) reservations.\n",
    "- 'lead_time': The time period between the reservation made and the guest's check-in.\n",
    "- 'arrival_date_year': The year of the guest's arrival.\n",
    "- 'arrival_date_month': The month of the guest's arrival.\n",
    "- 'arrival_date_week_number': The week number of the guest's arrival (calculated within the year).\n",
    "- 'arrival_date_day_of_month': The day of the month the guest arrives.\n",
    "- 'stays_in_weekend_nights': The number of nights the guest stays over the weekend.\n",
    "- 'stays_in_week_nights': The number of nights the guest stays during the weekday.\n",
    "- 'adults': The number of adult guests staying.\n",
    "- 'children': The number of children guests staying.\n",
    "- 'babies': The number of baby guests staying.\n",
    "- 'meal': The type of meal plan selected for the stay: BB (Bed and Breakfast), HB (Half Board), FB (Full Board), or SC (Self-catering).\n",
    "- 'country': The country of origin for the guest. There are 187 different countries.\n",
    "- 'market_segment': The hotel’s method for categorizing guests into groups such as Direct, Corporate, Online TA, Offline TA/TO, Complementary, Groups, Undefined, or Aviation.\n",
    "- 'distribution_channel': The method/platform used by the hotel to sell rooms: Direct, Corporate, TA/TO, Undefined, or GDS.\n",
    "- 'is_repeated_guest': A boolean value indicating whether the guest has stayed before. 1 for returning guests, 0 for first-time guests.\n",
    "- 'previous_cancellations': The number of bookings previously canceled by the guest. This value ranges from 0 to 26.\n",
    "- 'previous_bookings_not_canceled': The number of bookings previously not canceled by the guest. This value ranges from 0 to 72.\n",
    "- 'reserved_room_type': The room type reserved by the guest.\n",
    "- 'assigned_room_type': The room type assigned to the guest upon check-in.\n",
    "- 'booking_changes': The number of times the guest modified their booking. This value ranges from 0 to 21.\n",
    "- 'deposit_type': The type of deposit paid by the guest: No Deposit, Refundable, or Non-Refundable.\n",
    "- 'agent': The agent code (if the booking was made through an agent).\n",
    "- 'company': The company code (if the booking was made through a company).\n",
    "- 'days_in_waiting_list': The number of days a guest was on the waiting list before being assigned a room. The maximum value is 330 days.\n",
    "- 'customer_type': The type of customer: Transient, Contract, Transient-Party, or Group.\n",
    "- 'adr': Average Daily Rate — a key metric used in the hospitality industry to calculate average revenue earned per room sold (room revenue/rooms sold).\n",
    "- 'required_car_parking_spaces': The number of parking spaces required by the guest.\n",
    "- 'total_of_special_requests': The total number of special requests made by the guest (such as room preferences, etc.).\n",
    "- 'reservation_status': The current status of the reservation: \"Check-out\" (the guest arrived and checked out as planned), \"Canceled\" (the reservation was canceled), or \"No Show\" (the guest didn't show up without canceling).\n",
    "- 'reservation_status_date': The date the reservation status was last updated."
   ]
  },
  {
   "cell_type": "markdown",
   "metadata": {},
   "source": [
    "## General Information\n",
    "\n",
    "This section will provide general information of dataset."
   ]
  },
  {
   "cell_type": "code",
   "execution_count": 4,
   "metadata": {},
   "outputs": [
    {
     "name": "stdout",
     "output_type": "stream",
     "text": [
      "<class 'pandas.core.frame.DataFrame'>\n",
      "RangeIndex: 119390 entries, 0 to 119389\n",
      "Data columns (total 32 columns):\n",
      " #   Column                          Non-Null Count   Dtype  \n",
      "---  ------                          --------------   -----  \n",
      " 0   hotel                           119390 non-null  object \n",
      " 1   is_canceled                     119390 non-null  int64  \n",
      " 2   lead_time                       119390 non-null  int64  \n",
      " 3   arrival_date_year               119390 non-null  int64  \n",
      " 4   arrival_date_month              119390 non-null  object \n",
      " 5   arrival_date_week_number        119390 non-null  int64  \n",
      " 6   arrival_date_day_of_month       119390 non-null  int64  \n",
      " 7   stays_in_weekend_nights         119390 non-null  int64  \n",
      " 8   stays_in_week_nights            119390 non-null  int64  \n",
      " 9   adults                          119390 non-null  int64  \n",
      " 10  children                        119386 non-null  float64\n",
      " 11  babies                          119390 non-null  int64  \n",
      " 12  meal                            119390 non-null  object \n",
      " 13  country                         118902 non-null  object \n",
      " 14  market_segment                  119390 non-null  object \n",
      " 15  distribution_channel            119390 non-null  object \n",
      " 16  is_repeated_guest               119390 non-null  int64  \n",
      " 17  previous_cancellations          119390 non-null  int64  \n",
      " 18  previous_bookings_not_canceled  119390 non-null  int64  \n",
      " 19  reserved_room_type              119390 non-null  object \n",
      " 20  assigned_room_type              119390 non-null  object \n",
      " 21  booking_changes                 119390 non-null  int64  \n",
      " 22  deposit_type                    119390 non-null  object \n",
      " 23  agent                           103050 non-null  float64\n",
      " 24  company                         6797 non-null    float64\n",
      " 25  days_in_waiting_list            119390 non-null  int64  \n",
      " 26  customer_type                   119390 non-null  object \n",
      " 27  adr                             119390 non-null  float64\n",
      " 28  required_car_parking_spaces     119390 non-null  int64  \n",
      " 29  total_of_special_requests       119390 non-null  int64  \n",
      " 30  reservation_status              119390 non-null  object \n",
      " 31  reservation_status_date         119390 non-null  object \n",
      "dtypes: float64(4), int64(16), object(12)\n",
      "memory usage: 29.1+ MB\n"
     ]
    }
   ],
   "source": [
    "# df summary \n",
    "df.info()"
   ]
  },
  {
   "cell_type": "markdown",
   "metadata": {},
   "source": [
    "As seen in the dataset, the columns have various data types such as str, int, and float. The dataset contains 119,390 records, but some columns have missing data (which we can flag as missing values). To understand how much data is missing, I will check for missing values in the dataset."
   ]
  },
  {
   "cell_type": "markdown",
   "metadata": {},
   "source": [
    "# Checking Missing Values\n",
    "\n",
    "This section will provide any information about missing value."
   ]
  },
  {
   "cell_type": "code",
   "execution_count": 5,
   "metadata": {},
   "outputs": [
    {
     "data": {
      "text/plain": [
       "hotel                                  0\n",
       "is_canceled                            0\n",
       "lead_time                              0\n",
       "arrival_date_year                      0\n",
       "arrival_date_month                     0\n",
       "arrival_date_week_number               0\n",
       "arrival_date_day_of_month              0\n",
       "stays_in_weekend_nights                0\n",
       "stays_in_week_nights                   0\n",
       "adults                                 0\n",
       "children                               4\n",
       "babies                                 0\n",
       "meal                                   0\n",
       "country                              488\n",
       "market_segment                         0\n",
       "distribution_channel                   0\n",
       "is_repeated_guest                      0\n",
       "previous_cancellations                 0\n",
       "previous_bookings_not_canceled         0\n",
       "reserved_room_type                     0\n",
       "assigned_room_type                     0\n",
       "booking_changes                        0\n",
       "deposit_type                           0\n",
       "agent                              16340\n",
       "company                           112593\n",
       "days_in_waiting_list                   0\n",
       "customer_type                          0\n",
       "adr                                    0\n",
       "required_car_parking_spaces            0\n",
       "total_of_special_requests              0\n",
       "reservation_status                     0\n",
       "reservation_status_date                0\n",
       "dtype: int64"
      ]
     },
     "execution_count": 5,
     "metadata": {},
     "output_type": "execute_result"
    }
   ],
   "source": [
    "df.isnull().sum()"
   ]
  },
  {
   "cell_type": "markdown",
   "metadata": {},
   "source": [
    "As seen above, missing values are distributed in 4 columns: 4 missing values in 'children', 488 in 'country', 16,340 in 'agent', and 112,593 (most of them) in 'company'."
   ]
  },
  {
   "cell_type": "code",
   "execution_count": 6,
   "metadata": {},
   "outputs": [
    {
     "data": {
      "text/plain": [
       "np.int64(129425)"
      ]
     },
     "execution_count": 6,
     "metadata": {},
     "output_type": "execute_result"
    }
   ],
   "source": [
    "# checking missing values\n",
    "df.isnull().sum().sum()"
   ]
  },
  {
   "cell_type": "markdown",
   "metadata": {},
   "source": [
    "Or we can see it in total: there are 129,425 missing values."
   ]
  },
  {
   "cell_type": "markdown",
   "metadata": {},
   "source": [
    "# Unique Value\n",
    "\n",
    "This section will provide some informations about unique value from str columns."
   ]
  },
  {
   "cell_type": "code",
   "execution_count": 7,
   "metadata": {},
   "outputs": [
    {
     "name": "stdout",
     "output_type": "stream",
     "text": [
      "['Resort Hotel' 'City Hotel']\n",
      "['July' 'August' 'September' 'October' 'November' 'December' 'January'\n",
      " 'February' 'March' 'April' 'May' 'June']\n",
      "['BB' 'FB' 'HB' 'SC' 'Undefined']\n",
      "['PRT' 'GBR' 'USA' 'ESP' 'IRL' 'FRA' nan 'ROU' 'NOR' 'OMN' 'ARG' 'POL'\n",
      " 'DEU' 'BEL' 'CHE' 'CN' 'GRC' 'ITA' 'NLD' 'DNK' 'RUS' 'SWE' 'AUS' 'EST'\n",
      " 'CZE' 'BRA' 'FIN' 'MOZ' 'BWA' 'LUX' 'SVN' 'ALB' 'IND' 'CHN' 'MEX' 'MAR'\n",
      " 'UKR' 'SMR' 'LVA' 'PRI' 'SRB' 'CHL' 'AUT' 'BLR' 'LTU' 'TUR' 'ZAF' 'AGO'\n",
      " 'ISR' 'CYM' 'ZMB' 'CPV' 'ZWE' 'DZA' 'KOR' 'CRI' 'HUN' 'ARE' 'TUN' 'JAM'\n",
      " 'HRV' 'HKG' 'IRN' 'GEO' 'AND' 'GIB' 'URY' 'JEY' 'CAF' 'CYP' 'COL' 'GGY'\n",
      " 'KWT' 'NGA' 'MDV' 'VEN' 'SVK' 'FJI' 'KAZ' 'PAK' 'IDN' 'LBN' 'PHL' 'SEN'\n",
      " 'SYC' 'AZE' 'BHR' 'NZL' 'THA' 'DOM' 'MKD' 'MYS' 'ARM' 'JPN' 'LKA' 'CUB'\n",
      " 'CMR' 'BIH' 'MUS' 'COM' 'SUR' 'UGA' 'BGR' 'CIV' 'JOR' 'SYR' 'SGP' 'BDI'\n",
      " 'SAU' 'VNM' 'PLW' 'QAT' 'EGY' 'PER' 'MLT' 'MWI' 'ECU' 'MDG' 'ISL' 'UZB'\n",
      " 'NPL' 'BHS' 'MAC' 'TGO' 'TWN' 'DJI' 'STP' 'KNA' 'ETH' 'IRQ' 'HND' 'RWA'\n",
      " 'KHM' 'MCO' 'BGD' 'IMN' 'TJK' 'NIC' 'BEN' 'VGB' 'TZA' 'GAB' 'GHA' 'TMP'\n",
      " 'GLP' 'KEN' 'LIE' 'GNB' 'MNE' 'UMI' 'MYT' 'FRO' 'MMR' 'PAN' 'BFA' 'LBY'\n",
      " 'MLI' 'NAM' 'BOL' 'PRY' 'BRB' 'ABW' 'AIA' 'SLV' 'DMA' 'PYF' 'GUY' 'LCA'\n",
      " 'ATA' 'GTM' 'ASM' 'MRT' 'NCL' 'KIR' 'SDN' 'ATF' 'SLE' 'LAO']\n",
      "['Direct' 'Corporate' 'Online TA' 'Offline TA/TO' 'Complementary' 'Groups'\n",
      " 'Undefined' 'Aviation']\n",
      "['Direct' 'Corporate' 'TA/TO' 'Undefined' 'GDS']\n",
      "['C' 'A' 'D' 'E' 'G' 'F' 'H' 'L' 'P' 'B']\n",
      "['C' 'A' 'D' 'E' 'G' 'F' 'I' 'B' 'H' 'P' 'L' 'K']\n",
      "['No Deposit' 'Refundable' 'Non Refund']\n",
      "['Transient' 'Contract' 'Transient-Party' 'Group']\n",
      "['Check-Out' 'Canceled' 'No-Show']\n",
      "['2015-07-01' '2015-07-02' '2015-07-03' '2015-05-06' '2015-04-22'\n",
      " '2015-06-23' '2015-07-05' '2015-07-06' '2015-07-07' '2015-07-08'\n",
      " '2015-05-11' '2015-07-15' '2015-07-16' '2015-05-29' '2015-05-19'\n",
      " '2015-06-19' '2015-05-23' '2015-05-18' '2015-07-09' '2015-06-02'\n",
      " '2015-07-13' '2015-07-04' '2015-06-29' '2015-06-16' '2015-06-18'\n",
      " '2015-06-12' '2015-06-09' '2015-05-26' '2015-07-11' '2015-07-12'\n",
      " '2015-07-17' '2015-04-15' '2015-05-13' '2015-07-10' '2015-05-20'\n",
      " '2015-05-12' '2015-07-14' '2015-06-17' '2015-05-01' '2015-03-30'\n",
      " '2015-07-19' '2015-06-03' '2015-06-26' '2015-05-14' '2015-07-20'\n",
      " '2015-05-07' '2015-05-28' '2015-04-13' '2015-03-25' '2015-07-21'\n",
      " '2015-06-27' '2015-07-18' '2015-07-23' '2015-06-08' '2015-06-22'\n",
      " '2015-06-24' '2015-03-05' '2015-06-01' '2015-04-24' '2015-07-22'\n",
      " '2015-05-27' '2015-04-06' '2015-04-11' '2015-07-25' '2015-07-28'\n",
      " '2015-07-29' '2015-06-25' '2015-07-24' '2015-06-05' '2015-06-30'\n",
      " '2015-06-13' '2015-06-11' '2015-07-30' '2015-07-27' '2015-04-29'\n",
      " '2015-06-04' '2015-07-26' '2015-08-01' '2015-08-02' '2015-06-15'\n",
      " '2015-04-23' '2015-07-31' '2015-05-25' '2015-08-03' '2015-04-17'\n",
      " '2015-08-04' '2015-08-06' '2015-05-15' '2015-05-09' '2015-03-17'\n",
      " '2015-05-22' '2015-08-07' '2015-04-04' '2015-08-05' '2015-08-08'\n",
      " '2015-08-10' '2015-05-04' '2015-06-06' '2015-08-09' '2015-08-15'\n",
      " '2015-08-11' '2015-03-28' '2015-08-14' '2015-08-12' '2015-08-16'\n",
      " '2015-05-16' '2015-08-21' '2015-08-13' '2015-08-17' '2015-04-20'\n",
      " '2015-08-18' '2015-08-23' '2015-08-22' '2015-08-19' '2015-08-20'\n",
      " '2015-08-29' '2015-03-31' '2015-05-30' '2015-08-25' '2015-04-14'\n",
      " '2015-08-24' '2015-03-24' '2015-05-21' '2015-08-28' '2015-08-26'\n",
      " '2015-08-27' '2015-08-30' '2015-08-31' '2015-09-06' '2015-09-03'\n",
      " '2015-09-04' '2015-09-02' '2015-09-01' '2015-09-05' '2015-06-20'\n",
      " '2015-09-07' '2015-09-10' '2015-09-11' '2015-09-08' '2015-09-09'\n",
      " '2015-09-13' '2015-09-15' '2015-04-10' '2015-01-02' '2014-11-18'\n",
      " '2015-09-12' '2015-09-17' '2015-09-14' '2015-04-07' '2015-09-19'\n",
      " '2015-09-16' '2015-09-20' '2015-01-18' '2015-10-23' '2015-01-22'\n",
      " '2015-01-01' '2015-09-22' '2015-09-24' '2015-09-18' '2015-09-21'\n",
      " '2015-09-30' '2015-09-25' '2015-09-27' '2015-09-28' '2015-10-12'\n",
      " '2015-09-29' '2015-09-23' '2015-10-01' '2015-09-26' '2015-04-18'\n",
      " '2015-10-02' '2015-10-04' '2015-10-08' '2015-10-03' '2015-10-07'\n",
      " '2015-10-09' '2015-10-11' '2015-10-05' '2015-10-06' '2015-10-10'\n",
      " '2015-10-14' '2015-10-15' '2015-10-18' '2015-10-13' '2015-10-20'\n",
      " '2015-10-19' '2015-10-31' '2015-10-16' '2015-10-21' '2015-10-22'\n",
      " '2015-10-17' '2015-10-24' '2015-10-25' '2015-10-28' '2015-10-27'\n",
      " '2015-10-26' '2015-10-30' '2015-11-05' '2015-10-29' '2015-11-03'\n",
      " '2015-11-07' '2015-11-04' '2015-11-01' '2015-11-02' '2015-11-17'\n",
      " '2015-11-06' '2015-11-10' '2015-11-08' '2015-11-09' '2015-11-15'\n",
      " '2015-11-16' '2015-11-11' '2015-11-12' '2015-11-14' '2015-11-13'\n",
      " '2015-11-18' '2015-11-22' '2015-11-19' '2015-11-21' '2015-11-20'\n",
      " '2015-11-24' '2015-11-25' '2015-11-23' '2015-11-28' '2015-11-26'\n",
      " '2015-11-27' '2015-11-29' '2015-12-04' '2015-12-01' '2015-12-06'\n",
      " '2015-12-08' '2015-12-02' '2015-12-03' '2015-12-31' '2015-12-05'\n",
      " '2015-12-10' '2015-12-17' '2015-11-30' '2015-12-12' '2015-12-07'\n",
      " '2016-01-05' '2015-12-11' '2015-12-13' '2015-12-15' '2015-12-16'\n",
      " '2015-12-19' '2015-12-18' '2015-12-26' '2015-12-27' '2015-12-22'\n",
      " '2015-12-23' '2015-12-24' '2015-12-29' '2015-12-28' '2015-12-20'\n",
      " '2015-12-30' '2016-01-02' '2016-01-01' '2015-12-25' '2016-01-03'\n",
      " '2016-01-04' '2016-01-11' '2016-01-07' '2015-12-21' '2016-01-09'\n",
      " '2016-01-10' '2016-01-08' '2016-01-06' '2016-01-12' '2016-01-13'\n",
      " '2016-01-23' '2016-02-09' '2016-01-15' '2016-01-16' '2016-01-17'\n",
      " '2016-01-19' '2016-01-18' '2016-01-21' '2016-01-24' '2016-01-22'\n",
      " '2016-01-29' '2016-01-27' '2016-01-25' '2016-03-08' '2016-01-26'\n",
      " '2016-01-20' '2016-01-30' '2016-02-01' '2016-02-02' '2016-02-08'\n",
      " '2016-02-07' '2016-01-28' '2016-02-05' '2016-02-03' '2016-02-13'\n",
      " '2016-02-10' '2016-02-04' '2016-02-12' '2016-02-11' '2016-02-16'\n",
      " '2016-02-14' '2016-02-15' '2016-02-20' '2016-02-06' '2016-01-14'\n",
      " '2016-02-17' '2016-02-21' '2016-02-24' '2016-02-25' '2016-02-19'\n",
      " '2016-02-18' '2016-02-26' '2016-02-23' '2016-03-05' '2016-02-22'\n",
      " '2016-02-27' '2016-03-03' '2016-03-24' '2016-03-04' '2016-02-29'\n",
      " '2016-03-01' '2016-03-02' '2016-03-30' '2016-03-07' '2016-03-14'\n",
      " '2016-03-21' '2016-03-09' '2016-03-12' '2016-03-22' '2016-03-10'\n",
      " '2016-03-11' '2016-03-20' '2016-03-15' '2016-03-17' '2016-03-16'\n",
      " '2016-03-19' '2016-03-27' '2016-03-18' '2016-03-26' '2016-03-31'\n",
      " '2016-03-28' '2016-03-29' '2016-04-01' '2016-03-23' '2016-04-02'\n",
      " '2016-03-25' '2016-03-13' '2016-04-04' '2016-04-03' '2016-04-05'\n",
      " '2016-04-08' '2016-04-06' '2016-04-09' '2016-04-12' '2016-04-16'\n",
      " '2016-04-17' '2016-04-27' '2016-04-14' '2016-04-18' '2016-04-21'\n",
      " '2016-04-19' '2016-04-20' '2016-04-10' '2016-04-13' '2016-04-11'\n",
      " '2016-04-07' '2016-04-15' '2016-04-22' '2016-04-23' '2016-04-26'\n",
      " '2016-04-28' '2016-04-24' '2016-04-25' '2016-04-29' '2016-04-30'\n",
      " '2016-05-01' '2016-05-10' '2016-05-02' '2016-05-07' '2016-05-08'\n",
      " '2016-05-12' '2016-05-04' '2016-05-06' '2016-05-03' '2016-05-09'\n",
      " '2016-05-05' '2016-05-13' '2016-05-14' '2016-05-18' '2016-05-19'\n",
      " '2016-05-15' '2016-05-16' '2016-05-11' '2016-05-21' '2016-05-22'\n",
      " '2016-05-20' '2016-05-24' '2016-05-25' '2016-05-26' '2016-05-23'\n",
      " '2016-05-27' '2016-05-17' '2016-05-29' '2016-05-28' '2016-05-30'\n",
      " '2016-05-31' '2016-06-01' '2016-06-03' '2016-06-08' '2016-06-02'\n",
      " '2016-06-05' '2016-06-06' '2016-06-13' '2016-06-07' '2016-06-10'\n",
      " '2016-06-11' '2016-06-16' '2016-06-12' '2016-06-14' '2016-06-17'\n",
      " '2016-06-04' '2016-06-18' '2016-06-21' '2016-06-09' '2016-06-24'\n",
      " '2016-06-20' '2016-06-25' '2016-06-22' '2016-06-26' '2016-06-23'\n",
      " '2016-07-01' '2016-06-15' '2016-06-28' '2016-07-02' '2016-06-19'\n",
      " '2016-06-27' '2016-07-04' '2016-06-30' '2016-07-05' '2016-07-08'\n",
      " '2016-07-09' '2016-07-07' '2016-07-12' '2016-06-29' '2016-07-10'\n",
      " '2016-07-15' '2016-07-03' '2016-07-16' '2016-07-14' '2016-07-18'\n",
      " '2016-07-13' '2016-07-06' '2016-07-20' '2016-07-21' '2016-07-23'\n",
      " '2016-07-19' '2016-07-11' '2016-07-28' '2016-07-17' '2016-07-25'\n",
      " '2016-07-22' '2016-07-29' '2016-08-03' '2016-08-02' '2016-08-04'\n",
      " '2016-08-08' '2016-08-10' '2016-08-01' '2016-08-06' '2016-03-06'\n",
      " '2016-08-05' '2016-07-26' '2016-08-07' '2016-07-30' '2016-07-24'\n",
      " '2016-08-12' '2016-07-27' '2016-08-13' '2016-08-18' '2016-08-16'\n",
      " '2016-08-15' '2016-08-17' '2016-08-11' '2016-07-31' '2016-08-19'\n",
      " '2016-09-01' '2016-08-23' '2016-08-26' '2016-08-20' '2016-08-21'\n",
      " '2016-09-04' '2016-08-22' '2016-08-27' '2016-08-25' '2016-08-09'\n",
      " '2016-09-05' '2016-08-24' '2016-09-10' '2016-08-29' '2016-09-09'\n",
      " '2016-08-30' '2016-09-13' '2016-08-31' '2016-09-14' '2016-09-12'\n",
      " '2016-09-15' '2016-08-14' '2016-09-02' '2016-09-08' '2016-09-19'\n",
      " '2016-09-16' '2016-09-07' '2016-09-21' '2016-09-06' '2016-09-22'\n",
      " '2016-09-17' '2016-09-20' '2016-09-03' '2016-09-26' '2016-09-23'\n",
      " '2016-09-18' '2016-09-29' '2016-10-02' '2016-10-01' '2016-09-27'\n",
      " '2016-09-25' '2016-10-05' '2016-09-11' '2016-09-30' '2016-10-09'\n",
      " '2016-10-03' '2016-10-06' '2016-10-11' '2016-09-24' '2016-10-13'\n",
      " '2016-09-28' '2016-10-08' '2016-10-07' '2016-10-16' '2016-08-28'\n",
      " '2016-10-17' '2016-10-18' '2016-10-10' '2016-10-04' '2016-10-15'\n",
      " '2016-10-19' '2016-10-21' '2016-10-12' '2016-10-24' '2016-10-26'\n",
      " '2016-10-23' '2016-10-20' '2016-10-25' '2016-10-27' '2016-10-28'\n",
      " '2016-10-30' '2016-10-29' '2016-11-01' '2016-11-04' '2016-10-14'\n",
      " '2016-11-07' '2016-11-03' '2016-11-10' '2016-11-14' '2016-11-02'\n",
      " '2016-10-31' '2016-11-11' '2016-11-08' '2016-11-05' '2016-11-25'\n",
      " '2016-11-09' '2016-11-20' '2016-11-21' '2016-10-22' '2016-11-22'\n",
      " '2016-11-16' '2016-11-23' '2016-11-17' '2016-11-06' '2016-11-15'\n",
      " '2016-11-13' '2016-11-12' '2016-11-27' '2016-11-19' '2016-11-30'\n",
      " '2016-11-18' '2016-12-02' '2016-12-04' '2016-11-29' '2016-12-07'\n",
      " '2016-11-28' '2016-12-03' '2016-12-06' '2016-11-24' '2016-12-08'\n",
      " '2016-12-05' '2016-12-10' '2016-12-13' '2016-12-14' '2016-12-16'\n",
      " '2016-12-15' '2016-12-17' '2016-12-19' '2016-12-21' '2016-12-20'\n",
      " '2016-12-22' '2016-12-23' '2016-12-24' '2016-12-01' '2016-12-27'\n",
      " '2016-12-29' '2016-12-30' '2016-12-12' '2017-01-02' '2016-12-11'\n",
      " '2017-01-03' '2017-01-04' '2017-01-01' '2016-12-26' '2017-01-06'\n",
      " '2016-12-28' '2016-12-18' '2017-01-10' '2017-01-11' '2017-01-07'\n",
      " '2017-01-12' '2017-01-16' '2017-01-14' '2017-01-13' '2017-01-05'\n",
      " '2017-01-17' '2017-01-20' '2016-12-09' '2017-01-26' '2016-12-31'\n",
      " '2017-01-23' '2017-01-27' '2017-01-28' '2017-01-19' '2017-01-25'\n",
      " '2017-01-24' '2017-01-29' '2017-01-18' '2016-12-25' '2017-01-15'\n",
      " '2017-01-21' '2017-02-01' '2017-02-02' '2017-01-31' '2017-02-03'\n",
      " '2017-02-04' '2017-02-06' '2017-02-07' '2017-02-08' '2017-01-30'\n",
      " '2017-02-09' '2017-01-09' '2017-02-11' '2017-02-10' '2017-02-12'\n",
      " '2017-02-13' '2017-02-14' '2017-02-16' '2017-02-17' '2017-02-18'\n",
      " '2017-02-19' '2017-02-20' '2017-02-15' '2017-02-21' '2017-02-22'\n",
      " '2017-02-26' '2017-02-23' '2017-02-24' '2017-02-25' '2017-02-28'\n",
      " '2017-03-05' '2017-02-27' '2017-03-03' '2017-03-06' '2017-03-02'\n",
      " '2017-03-08' '2017-03-09' '2017-03-10' '2017-03-07' '2017-03-12'\n",
      " '2017-03-13' '2017-03-14' '2017-03-01' '2017-03-18' '2017-03-17'\n",
      " '2017-03-24' '2017-03-22' '2017-03-26' '2017-03-27' '2017-03-11'\n",
      " '2017-03-28' '2017-03-29' '2017-03-30' '2017-03-31' '2017-03-19'\n",
      " '2017-01-22' '2017-04-02' '2017-03-20' '2017-04-03' '2017-01-08'\n",
      " '2017-03-23' '2017-04-05' '2017-02-05' '2017-04-04' '2017-03-15'\n",
      " '2017-04-07' '2017-03-25' '2017-04-08' '2017-04-06' '2017-03-21'\n",
      " '2017-04-10' '2017-04-01' '2017-04-11' '2017-04-13' '2017-04-15'\n",
      " '2017-04-12' '2017-03-04' '2017-04-19' '2017-04-22' '2017-04-20'\n",
      " '2017-05-02' '2017-04-09' '2017-04-23' '2017-04-24' '2017-04-16'\n",
      " '2017-04-28' '2017-04-18' '2017-04-26' '2017-04-25' '2017-04-17'\n",
      " '2017-04-21' '2017-05-03' '2017-05-04' '2017-03-16' '2017-05-05'\n",
      " '2017-04-29' '2017-04-14' '2017-05-08' '2017-04-27' '2017-05-11'\n",
      " '2017-05-01' '2017-05-10' '2017-05-13' '2017-05-06' '2017-05-14'\n",
      " '2017-05-16' '2017-04-30' '2017-05-15' '2017-05-07' '2017-05-09'\n",
      " '2017-05-17' '2017-05-21' '2017-05-12' '2017-05-22' '2017-05-24'\n",
      " '2017-05-23' '2017-05-25' '2017-05-26' '2017-05-28' '2017-05-27'\n",
      " '2017-05-29' '2017-05-19' '2017-05-31' '2017-05-20' '2017-06-01'\n",
      " '2017-05-30' '2017-06-02' '2016-11-26' '2017-06-04' '2017-06-05'\n",
      " '2017-06-06' '2017-06-07' '2017-05-18' '2017-06-09' '2017-06-10'\n",
      " '2017-06-11' '2017-06-12' '2017-06-14' '2017-06-08' '2017-06-16'\n",
      " '2017-06-13' '2017-06-03' '2017-06-24' '2017-06-20' '2017-06-19'\n",
      " '2017-06-21' '2017-06-26' '2017-06-27' '2017-06-22' '2017-06-28'\n",
      " '2017-06-15' '2017-06-29' '2017-06-30' '2017-06-18' '2017-07-04'\n",
      " '2017-07-08' '2017-07-05' '2017-07-03' '2017-07-07' '2017-07-01'\n",
      " '2017-07-06' '2017-07-11' '2017-07-12' '2017-06-23' '2017-07-13'\n",
      " '2017-07-02' '2017-07-10' '2017-07-14' '2017-07-15' '2017-07-16'\n",
      " '2017-07-18' '2017-07-17' '2017-07-19' '2017-07-20' '2017-07-21'\n",
      " '2017-06-25' '2017-06-17' '2017-07-24' '2017-07-26' '2017-07-09'\n",
      " '2017-07-27' '2017-07-28' '2017-07-31' '2017-07-29' '2017-07-22'\n",
      " '2017-08-02' '2017-08-01' '2017-08-03' '2017-08-04' '2017-07-25'\n",
      " '2017-07-23' '2017-08-09' '2017-08-10' '2017-07-30' '2017-08-07'\n",
      " '2017-08-13' '2017-08-05' '2017-08-14' '2017-08-08' '2017-08-16'\n",
      " '2017-08-17' '2017-08-15' '2017-08-18' '2017-08-20' '2017-08-22'\n",
      " '2017-08-06' '2017-08-25' '2017-08-26' '2017-08-23' '2017-08-11'\n",
      " '2017-08-27' '2017-08-21' '2017-08-29' '2017-08-31' '2017-08-12'\n",
      " '2017-08-19' '2016-01-31' '2017-09-01' '2017-08-28' '2015-04-03'\n",
      " '2015-01-21' '2015-01-28' '2015-01-29' '2015-01-30' '2015-02-02'\n",
      " '2015-02-05' '2015-02-06' '2015-02-09' '2015-02-10' '2015-02-11'\n",
      " '2015-02-12' '2015-02-19' '2015-02-20' '2015-02-23' '2015-02-24'\n",
      " '2015-02-25' '2015-02-26' '2015-02-27' '2015-03-03' '2015-03-04'\n",
      " '2015-03-06' '2015-03-09' '2015-03-11' '2015-03-12' '2015-03-18'\n",
      " '2015-04-02' '2015-06-14' '2015-04-08' '2015-04-16' '2015-04-25'\n",
      " '2015-04-28' '2015-05-08' '2017-09-06' '2016-02-28' '2015-12-09'\n",
      " '2015-12-14' '2017-09-09' '2017-09-02' '2017-08-24' '2017-08-30'\n",
      " '2017-09-03' '2017-09-04' '2017-09-05' '2017-09-07' '2017-09-08'\n",
      " '2017-09-10' '2017-09-12' '2017-09-14' '2015-04-30' '2015-04-21'\n",
      " '2015-04-05' '2015-03-13' '2015-05-05' '2015-03-29' '2015-06-10'\n",
      " '2015-04-27' '2014-10-17' '2015-01-20' '2015-02-17' '2015-03-10'\n",
      " '2015-03-23']\n"
     ]
    }
   ],
   "source": [
    "# list unique value\n",
    "for column in df:\n",
    "    if df[column].dtypes == 'object':\n",
    "        print(df[column].unique())"
   ]
  },
  {
   "cell_type": "markdown",
   "metadata": {},
   "source": [
    "# Data Cleaning\n",
    "\n",
    "In this section, I'm preparing the dataset to get it ready for analysis: filtering the data based on the problem I want to solve."
   ]
  },
  {
   "cell_type": "markdown",
   "metadata": {},
   "source": [
    "## Filtering Columns\n",
    "\n",
    "Since the objective is determined,  it’s important to select the relevant columns for analyzing the cancellation rate based on customer segments and distribution channels. The reasons for selecting these columns are:\n",
    "\n",
    "- 'hotel': to distinguish between the types of hotels\n",
    "\n",
    "- 'is_canceled': the main topic of this analysis\n",
    "\n",
    "- 'customer_type': to observe the cancellation rate for each customer type\n",
    "\n",
    "- 'distribution_channel': to observe the cancellation rate for each distribution channel\n",
    "\n",
    "- 'is_repeated_guest': to assess guest loyalty\n",
    "\n",
    "- 'lead_time': to explore the relationship between cancellation rate and lead time\n",
    "\n",
    "- 'booking_changes': to see whether guests who make more changes to their bookings are more likely to cancel\n",
    "\n",
    "- 'previous_cancellations': to evaluate guests’ past cancellation history as a potential behavior indicator\n",
    "\n",
    "- 'previous_bookings_not_canceled': to understand whether positive past experiences reduce the likelihood of cancellation\n",
    "\n",
    "- 'adr' (Average Daily Rate): to check if room price influences booking cancellation decisions\n",
    "\n",
    "- 'arrival_date_year', 'arrival_date_month', and 'arrival_date_day_of_month': to identify possible seasonal or yearly trends in cancellations"
   ]
  },
  {
   "cell_type": "code",
   "execution_count": 8,
   "metadata": {},
   "outputs": [],
   "source": [
    "# Pemilihan kolom\n",
    "\n",
    "main_df = df[[\n",
    "    'hotel',                      # hotel type\n",
    "    'is_canceled',                # main topic\n",
    "    'customer_type',              # customer type\n",
    "    'distribution_channel',       # distribution channel\n",
    "    'is_repeated_guest',          # is the guest loyal or not\n",
    "    'lead_time',                  # time range between booking and check-in\n",
    "    'booking_changes',            # the count of booking changes\n",
    "    'previous_cancellations',     # past cancellation history\n",
    "    'previous_bookings_not_canceled',  # positive past experience\n",
    "    'adr',                        # average daily rate\n",
    "    'arrival_date_year',          # year of arrival\n",
    "    'arrival_date_month',         # month of arrival\n",
    "    'arrival_date_day_of_month'    # day of arrival\n",
    "]]\n"
   ]
  },
  {
   "cell_type": "markdown",
   "metadata": {},
   "source": [
    "## Columns Handling\n",
    "\n",
    "This section is about handling problem(s) in columns selected. Note that in this project, outlier(s) and type of distribution(skewed/normal) are ignored."
   ]
  },
  {
   "cell_type": "markdown",
   "metadata": {},
   "source": [
    "### Drop Error Value\n",
    "\n",
    "In the adr and is_canceled columns, there are some erroneous data. If is_canceled equals 0, it means the booking was not canceled and the guest checked out. This also means there should be a value in the adr column, as a completed stay should result in a payment. However, in the main dataset, there are some rows where is_canceled is 0 but the adr value is also 0. Based on this, I considered these records to be errors and decided to drop them."
   ]
  },
  {
   "cell_type": "code",
   "execution_count": 9,
   "metadata": {},
   "outputs": [],
   "source": [
    "# drop row which has 0 value, both in is_canceled and adr\n",
    "\n",
    "main_df = main_df[~((main_df['adr'] <= 0) & (main_df['is_canceled'] == 0))].reset_index(drop=True)"
   ]
  },
  {
   "cell_type": "markdown",
   "metadata": {},
   "source": [
    "### New Column Creation\n",
    "\n",
    "To identify the guest's arrival date, we currently need to refer to three separate columns: arrival_date_year, arrival_date_month, and arrival_date_day_of_month. To simplify the analysis and visualization process, I combined them into a single new column called arrival_date. This new column was created using the map function."
   ]
  },
  {
   "cell_type": "code",
   "execution_count": 10,
   "metadata": {},
   "outputs": [],
   "source": [
    "# combine 3 separates columns (y, m, and d) to one new column\n",
    "# 1. change month representation: char to number(in string)\n",
    "month_map = {\n",
    "    \"January\": \"01\",\n",
    "    \"February\": \"02\",\n",
    "    \"March\": \"03\",\n",
    "    \"April\": \"04\",\n",
    "    \"May\": \"05\",\n",
    "    \"June\": \"06\",\n",
    "    \"July\": \"07\",\n",
    "    \"August\": \"08\",\n",
    "    \"September\": \"09\",\n",
    "    \"October\": \"10\",\n",
    "    \"November\": \"11\",\n",
    "    \"December\":\"12\"}\n",
    "\n",
    "main_df['arrival_date_month_num'] = main_df['arrival_date_month'].map(month_map)\n",
    "\n",
    "# 2. make a new column\n",
    "main_df['arrival_date'] = pd.to_datetime(\n",
    "                            main_df['arrival_date_year'].astype(str) + '-' +\n",
    "                            main_df['arrival_date_month_num'] + '-' +\n",
    "                            main_df['arrival_date_day_of_month'].astype(str),\n",
    "                            format='%Y-%m-%d')\n"
   ]
  },
  {
   "cell_type": "markdown",
   "metadata": {},
   "source": [
    "### Save Document\n",
    "\n",
    "Since I will be creating a dashboard in Tableau, I will save the cleaned dataset as a CSV file."
   ]
  },
  {
   "cell_type": "code",
   "execution_count": 11,
   "metadata": {},
   "outputs": [],
   "source": [
    "# save to csv\n",
    "\n",
    "main_df.to_csv(\"C:/Users/NEILA/analysis-of-cancellation-rate/main_df.csv\", index=False)"
   ]
  },
  {
   "cell_type": "markdown",
   "metadata": {},
   "source": [
    "# Exploration and Analysis\n",
    "\n",
    "In this section, the analyst performs descriptive and inferential statistical analysis and prepares visualizations to answer the questions from the problem statement. As a guidance, I will use 6 analytical questions above."
   ]
  },
  {
   "cell_type": "markdown",
   "metadata": {},
   "source": [
    "## What is the difference in booking cancellation rates between City Hotels and Resort Hotels?\n",
    "\n",
    "To answer this question, I use some measurement such as count and mean."
   ]
  },
  {
   "cell_type": "code",
   "execution_count": 12,
   "metadata": {},
   "outputs": [
    {
     "name": "stdout",
     "output_type": "stream",
     "text": [
      "Total booking\n",
      " hotel\n",
      "City Hotel      78251\n",
      "Resort Hotel    39392\n",
      "Name: arrival_date, dtype: int64 \n",
      "\n",
      "\n",
      "Cancellation Rate Comparison\n",
      " hotel\n",
      "City Hotel      0.423023\n",
      "Resort Hotel    0.282342\n",
      "Name: is_canceled, dtype: float64\n"
     ]
    }
   ],
   "source": [
    "# Distribusi data booking dan cancel\n",
    "\n",
    "print(\"Total booking\\n\", main_df.groupby('hotel')['arrival_date'].count(),\"\\n\")\n",
    "print(\"\\nCancellation Rate Comparison\\n\", main_df.groupby('hotel')['is_canceled'].mean())"
   ]
  },
  {
   "cell_type": "markdown",
   "metadata": {},
   "source": [
    "As seen above, the total number of hotel bookings **differs** between the two hotel types, City Hotel has more bookings than Resort Hotel. However, the cancellation rate follows the same pattern, with City Hotel also having a higher cancellation rate. But to make it clearer, I will do a hypothesis test for this."
   ]
  },
  {
   "cell_type": "markdown",
   "metadata": {},
   "source": [
    "### Hypothesis Test"
   ]
  },
  {
   "cell_type": "markdown",
   "metadata": {},
   "source": [
    "Since I’ve found that the average cancellation rate is higher in City Hotels than in Resort Hotels, I will conduct a two-sided hypothesis test to statistically examine the difference.\n",
    "\n",
    "*Hypothesis Test – Comparing the Average Cancellation Rates Between Hotel Types*\n",
    "\n",
    "Null Hypothesis (H₀): The average cancellation rate in City Hotels is less than or equal to the average cancellation rate in Resort Hotels.\n",
    "\n",
    "Alternative Hypothesis (H₁): The average cancellation rate in City Hotels is greater than the average cancellation rate in Resort Hotels."
   ]
  },
  {
   "cell_type": "code",
   "execution_count": 13,
   "metadata": {},
   "outputs": [
    {
     "name": "stdout",
     "output_type": "stream",
     "text": [
      "P-value: 0.0\n",
      "t-statistics: 47.46261713471404\n"
     ]
    }
   ],
   "source": [
    "# Uji hipotesis\n",
    "\n",
    "sample_city = main_df[main_df['hotel']=='City Hotel']['is_canceled']\n",
    "sample_resort = main_df[main_df['hotel']=='Resort Hotel']['is_canceled']\n",
    "\n",
    "t_stat,p_val = stats.ttest_ind(sample_city, sample_resort)\n",
    "print('P-value:', p_val/2) #p-val dibagi dua karena outputnya adalah two-sided p-value\n",
    "print('t-statistics:',t_stat)"
   ]
  },
  {
   "cell_type": "markdown",
   "metadata": {},
   "source": [
    "Summary of Hypothesis Test:\n",
    "\n",
    "The p-value from the hypothesis test is less than 0.05, which means there is enough evidence to reject the null hypothesis. Therefore, we can conclude that the average cancellation rate in City Hotels is significantly higher than in Resort Hotels."
   ]
  },
  {
   "cell_type": "markdown",
   "metadata": {},
   "source": [
    "## Why do guests cancel their bookings?\n",
    "\n",
    "Since the distribution shape is not considered in this project, I will proceed with a correlation test under the assumption that all variables are normally distributed and contain no outliers.\n",
    "\n",
    "**Correlation Analysis** → to examine the relationship between the cancellation rate and other variables\n",
    "\n",
    "H0: There is no correlation between the cancellation rate and variable X\n",
    "\n",
    "H1: There is a correlation between the cancellation rate and variable X\n",
    "\n",
    "In this correlation analysis, I will explore the relationship between the `is_canceled` variable and the following variables:\n",
    "`lead_time, is_repeated_guest, booking_changes, previous_cancellations, previous_bookings_not_canceled, adr, and arrival_date.`"
   ]
  },
  {
   "cell_type": "code",
   "execution_count": 14,
   "metadata": {},
   "outputs": [],
   "source": [
    "# define variables for two types of hotels\n",
    "\n",
    "city_hotel = main_df[main_df['hotel']=='City Hotel']\n",
    "resort_hotel = main_df[main_df['hotel']=='Resort Hotel']"
   ]
  },
  {
   "cell_type": "markdown",
   "metadata": {},
   "source": [
    "### Lead Time and Cancellation Rate"
   ]
  },
  {
   "cell_type": "code",
   "execution_count": 15,
   "metadata": {},
   "outputs": [
    {
     "name": "stdout",
     "output_type": "stream",
     "text": [
      "Result of correlation test between lead time and cancel rate in city hotel\n",
      "Spearman correlation: 0.31753533561135844\n",
      "P-value: 0.0\n",
      "\n",
      "Result of correlation test between lead time and cancel rate in resort hotel\n",
      "Spearman correlation: 0.2743399434592529\n",
      "P-value: 0.0\n"
     ]
    }
   ],
   "source": [
    "# 1. korelasi lead time dengan cancel rate -- hasilnya H0 ditolak\n",
    "r_city, p_val_city = stats.spearmanr(city_hotel['lead_time'], city_hotel['is_canceled'])\n",
    "r_resort, p_val_resort = stats.spearmanr(resort_hotel['lead_time'], resort_hotel['is_canceled'])\n",
    "\n",
    "print(\"Result of correlation test between lead time and cancel rate in city hotel\")\n",
    "print(\"Spearman correlation:\", r_city)\n",
    "print(\"P-value:\", p_val_city)\n",
    "\n",
    "print(\"\\nResult of correlation test between lead time and cancel rate in resort hotel\")\n",
    "print(\"Spearman correlation:\", r_resort)\n",
    "print(\"P-value:\", p_val_resort)"
   ]
  },
  {
   "cell_type": "markdown",
   "metadata": {},
   "source": [
    "In the correlation test between lead_time and is_canceled, the p-value is less than 0.05 (a significant value), which provides enough evidence to reject H0 (there is a correlation). This indicates a relationship between cancel rate and the lead time variable across both types of hotels."
   ]
  },
  {
   "cell_type": "markdown",
   "metadata": {},
   "source": [
    "### Loyal Guest and Cancellation Rate"
   ]
  },
  {
   "cell_type": "code",
   "execution_count": 16,
   "metadata": {},
   "outputs": [
    {
     "name": "stdout",
     "output_type": "stream",
     "text": [
      "Result of correlation test between repeated guest and booking canceled\n",
      "tau-correlation: -0.07, p-value: 1.3626261665707312e-138\n"
     ]
    }
   ],
   "source": [
    "# Uji korelasi antar kolom kategorikal\n",
    "\n",
    "# korelasi is_repeated_guest dengan cancel_rate -- hasilnya H0 ditolak dan korelasinya negatif\n",
    "corr_tau, pval_k = stats.kendalltau(main_df['is_repeated_guest'], main_df['is_canceled'])\n",
    "print(\"Result of correlation test between repeated guest and booking canceled\")\n",
    "print(f\"tau-correlation: {corr_tau:.2f}, p-value: {pval_k}\")"
   ]
  },
  {
   "cell_type": "markdown",
   "metadata": {},
   "source": [
    "In the correlation test between is_repeated_guest and is_canceled, the p-value is negative and less than 0.05 (a significant value), which provides enough evidence to reject H0 (there is a correlation). This indicates a relationship between cancel rate and is_repeated_guest across both types of hotels. The relationship is a negative correlation, meaning that loyal guests tend to not cancel their bookings, and vice versa."
   ]
  },
  {
   "cell_type": "markdown",
   "metadata": {},
   "source": [
    "### Booking Changes and Cancellation Rate"
   ]
  },
  {
   "cell_type": "code",
   "execution_count": 17,
   "metadata": {},
   "outputs": [
    {
     "name": "stdout",
     "output_type": "stream",
     "text": [
      "Spearman Correlation (booking_changes and is_canceled): -0.1836797212707808, p-value: 0.0\n"
     ]
    }
   ],
   "source": [
    "# Spearman correlation between booking_changes and is_canceled\n",
    "corr_booking_changes, p_value_booking_changes = stats.spearmanr(main_df['booking_changes'], main_df['is_canceled'])\n",
    "print(f\"Spearman Correlation (booking_changes and is_canceled): {corr_booking_changes}, p-value: {p_value_booking_changes}\")\n"
   ]
  },
  {
   "cell_type": "markdown",
   "metadata": {},
   "source": [
    "In the correlation test between booking_changes and is_canceled, the p-value is less than 0.05 (a significant value), which provides enough evidence to reject H0 (there is a correlation). This indicates a relationship between cancel rate and the booking changes variable across both types of hotels."
   ]
  },
  {
   "cell_type": "markdown",
   "metadata": {},
   "source": [
    "### Previous Cancellations and Cancellation Rate"
   ]
  },
  {
   "cell_type": "code",
   "execution_count": 18,
   "metadata": {},
   "outputs": [
    {
     "name": "stdout",
     "output_type": "stream",
     "text": [
      "Spearman Correlation (previous_cancellations and is_canceled): 0.27170484388832816, p-value: 0.0\n"
     ]
    }
   ],
   "source": [
    "# Spearman correlation between previous_cancellations and is_canceled\n",
    "corr_prev_cancellations, p_value_prev_cancellations = stats.spearmanr(main_df['previous_cancellations'], main_df['is_canceled'])\n",
    "print(f\"Spearman Correlation (previous_cancellations and is_canceled): {corr_prev_cancellations}, p-value: {p_value_prev_cancellations}\")"
   ]
  },
  {
   "cell_type": "markdown",
   "metadata": {},
   "source": [
    "In the correlation test between previous_cancellations and is_canceled, the p-value is less than 0.05 (a significant value), which provides enough evidence to reject H0 (there is a correlation). This indicates a relationship between cancel rate and the previous_cancellations variable across both types of hotels."
   ]
  },
  {
   "cell_type": "markdown",
   "metadata": {},
   "source": [
    "### Previous Bookings Not Cancelled and Cancellation Rate"
   ]
  },
  {
   "cell_type": "code",
   "execution_count": 19,
   "metadata": {},
   "outputs": [
    {
     "name": "stdout",
     "output_type": "stream",
     "text": [
      "Spearman Correlation (previous_bookings_not_canceled and is_canceled): -0.11202088884550235, p-value: 0.0\n"
     ]
    }
   ],
   "source": [
    "# Spearman correlation between previous_bookings_not_canceled and is_canceled\n",
    "corr_prev_bookings_not_canceled, p_value_prev_bookings_not_canceled = stats.spearmanr(main_df['previous_bookings_not_canceled'], main_df['is_canceled'])\n",
    "print(f\"Spearman Correlation (previous_bookings_not_canceled and is_canceled): {corr_prev_bookings_not_canceled}, p-value: {p_value_prev_bookings_not_canceled}\")\n"
   ]
  },
  {
   "cell_type": "markdown",
   "metadata": {},
   "source": [
    "In the correlation test between previous_bookings_not_canceled and is_canceled, the p-value is less than 0.05 (a significant value), which provides enough evidence to reject H0 (there is a correlation). This indicates a relationship between cancel rate and the previous_bookings_not_canceled variable across both types of hotels."
   ]
  },
  {
   "cell_type": "markdown",
   "metadata": {},
   "source": [
    "### ADR and Cancellation Rate"
   ]
  },
  {
   "cell_type": "code",
   "execution_count": 20,
   "metadata": {},
   "outputs": [
    {
     "name": "stdout",
     "output_type": "stream",
     "text": [
      "Spearman Correlation (adr and is_canceled): 0.0323749138554454, p-value: 1.1585401229130485e-28\n"
     ]
    }
   ],
   "source": [
    "# Spearman correlation between adr and is_canceled\n",
    "corr_adr, p_value_adr = stats.spearmanr(main_df['adr'], main_df['is_canceled'])\n",
    "print(f\"Spearman Correlation (adr and is_canceled): {corr_adr}, p-value: {p_value_adr}\")\n"
   ]
  },
  {
   "cell_type": "markdown",
   "metadata": {},
   "source": [
    "In the correlation test between adr and is_canceled, the p-value is negative and less than 0.05 (a significant value), which provides enough evidence to reject H0 (there is a correlation). This indicates a relationship between cancel rate and adr across both types of hotels. Negative correlation means that as the adr (average daily rate) increases, the likelihood of cancellation decreases, and when the adr decreases, the likelihood of cancellation increases."
   ]
  },
  {
   "cell_type": "markdown",
   "metadata": {},
   "source": [
    "### Arrival Date and Cancellation Rate"
   ]
  },
  {
   "cell_type": "code",
   "execution_count": 21,
   "metadata": {},
   "outputs": [
    {
     "name": "stdout",
     "output_type": "stream",
     "text": [
      "Spearman Correlation (arrival_year and is_canceled): 0.01478476636870121, p-value: 3.951721083097547e-07\n",
      "Spearman Correlation (arrival_date_month and is_canceled): 0.011564411169838033, p-value: 7.291058789575547e-05\n",
      "Spearman Correlation (arrival_date_day_of_month and is_canceled): -0.006499615537975825, p-value: 0.025793210071544434\n"
     ]
    }
   ],
   "source": [
    "# extract year, month, or day\n",
    "main_df['arrival_date_year'] = main_df['arrival_date'].dt.year\n",
    "main_df['arrival_date_month'] = main_df['arrival_date'].dt.month\n",
    "main_df['arrival_date_day_of_month'] = main_df['arrival_date'].dt.day\n",
    "\n",
    "# Spearman correlation between arrival_year and is_canceled\n",
    "corr_arrival_year, p_value_arrival_year = stats.spearmanr(main_df['arrival_date_year'], main_df['is_canceled'])\n",
    "print(f\"Spearman Correlation (arrival_year and is_canceled): {corr_arrival_year}, p-value: {p_value_arrival_year}\")\n",
    "\n",
    "# Spearman correlation between arrival_month and is_canceled\n",
    "corr_arrival_month, p_value_arrival_month = stats.spearmanr(main_df['arrival_date_month'], main_df['is_canceled'])\n",
    "print(f\"Spearman Correlation (arrival_date_month and is_canceled): {corr_arrival_month}, p-value: {p_value_arrival_month}\")\n",
    "\n",
    "# Spearman correlation between arrival_day_of_month and is_canceled\n",
    "corr_arrival_day, p_value_arrival_day = stats.spearmanr(main_df['arrival_date_day_of_month'], main_df['is_canceled'])\n",
    "print(f\"Spearman Correlation (arrival_date_day_of_month and is_canceled): {corr_arrival_day}, p-value: {p_value_arrival_day}\")\n"
   ]
  },
  {
   "cell_type": "markdown",
   "metadata": {},
   "source": [
    "All the correlations are statistically significant (p-value < 0.05), but the correlation coefficients are very small, indicating that while there is some statistically significant relationship, these variables (arrival_year, arrival_month, arrival_day_of_month) do not strongly affect the cancellation rate."
   ]
  },
  {
   "cell_type": "markdown",
   "metadata": {},
   "source": [
    "### Summary\n",
    "\n",
    "- Lead Time: There’s a moderate positive correlation with cancellation, meaning bookings made far in advance are more likely to be canceled.\n",
    "\n",
    "- Repeated Guests: Loyal (repeated) guests are less likely to cancel, with a negative correlation between guest loyalty and cancellations.\n",
    "\n",
    "- ADR: The relationship between the price of the room and cancellation is weak but negative. Guests who pay more tend to cancel less.\n",
    "\n",
    "- Arrival Year, Month, and Day: These variables show weak correlations with cancellation rate, with some very slight seasonal patterns detected. However, the effects are minimal."
   ]
  },
  {
   "cell_type": "markdown",
   "metadata": {},
   "source": [
    "# Visualization\n",
    "\n",
    "## Who are the customer segments with the highest cancellation rates?\n"
   ]
  },
  {
   "cell_type": "code",
   "execution_count": 22,
   "metadata": {},
   "outputs": [
    {
     "data": {
      "image/png": "[encoded data removed]",
      "text/plain": [
       "<Figure size 1000x600 with 1 Axes>"
      ]
     },
     "metadata": {},
     "output_type": "display_data"
    }
   ],
   "source": [
    "# Calculate cancel rate by customer type and hotel\n",
    "cancel_rate_by_cat1 = main_df.groupby(['customer_type', 'hotel'])['is_canceled'].mean().reset_index()\n",
    "\n",
    "# Create a pivot table for easier plotting\n",
    "pivot_cancel_rate = cancel_rate_by_cat1.pivot(index='customer_type', columns='hotel', values='is_canceled')\n",
    "\n",
    "# Plotting stacked bar chart\n",
    "ax = pivot_cancel_rate.plot(kind='bar', stacked=True, figsize=(10, 6), color=['#1f77b4', '#ff7f0e'])\n",
    "\n",
    "# Set labels and title\n",
    "ax.set_ylabel('Cancel Rate')\n",
    "ax.set_xlabel('Customer Type')\n",
    "ax.set_title('Cancel Rate by Customer Type and Hotel')\n",
    "plt.xticks(rotation=0)\n",
    "\n",
    "# Add percentage labels to each part of the stacked bars\n",
    "for p in ax.patches:\n",
    "    height = p.get_height()\n",
    "    width = p.get_width()\n",
    "    x, y = p.get_xy()  # Get x and y position of the bar\n",
    "    percentage = height / pivot_cancel_rate.sum(axis=1).max() * 100  # Calculate percentage\n",
    "    ax.text(x + width / 2, y + height / 2, f'{percentage:.1f}%', ha='center', va='center')\n",
    "\n",
    "# Show plot\n",
    "plt.show()"
   ]
  },
  {
   "cell_type": "markdown",
   "metadata": {},
   "source": [
    "As seen above, Contract Customers in City Hotel have the highest cancellation rate. Meanwhile, Transient Customers in Resort Hotel have the highest cancellation rate. This makes sense, as City Hotels might be more focused on attracting Contract Customers, who could have different booking behaviors. On the other hand, Resort Hotels may attract more Transient Customers, who are more likely to cancel their bookings, leading to higher cancellation rates in this segment."
   ]
  },
  {
   "cell_type": "markdown",
   "metadata": {},
   "source": [
    "## Where do cancellations occur most frequently—within a specific hotel type or channel?"
   ]
  },
  {
   "cell_type": "code",
   "execution_count": 23,
   "metadata": {},
   "outputs": [
    {
     "data": {
      "image/png": "[encoded data removed]",
      "text/plain": [
       "<Figure size 1000x600 with 1 Axes>"
      ]
     },
     "metadata": {},
     "output_type": "display_data"
    }
   ],
   "source": [
    "# Total booking in the entire dataset\n",
    "total_booking = len(main_df)\n",
    "\n",
    "# Function to calculate cancel rate per group: cancel / total booking for all channels\n",
    "def cancel_rate_overall(x):\n",
    "    return x.sum() / total_booking\n",
    "\n",
    "# Calculate cancel rate per distribution_channel (and also hotel if needed)\n",
    "cancel_rate_by_channel = main_df.groupby(['distribution_channel', 'hotel'])['is_canceled'].agg(cancel_rate_overall)\n",
    "\n",
    "# Reset index to use in plotting\n",
    "cancel_rate_df = cancel_rate_by_channel.reset_index(name='cancel_rate')\n",
    "\n",
    "# Plot using matplotlib\n",
    "plt.figure(figsize=(10, 6))\n",
    "\n",
    "# Create a bar plot\n",
    "sns.barplot(data=cancel_rate_df, x='distribution_channel', y='cancel_rate', hue='hotel')\n",
    "\n",
    "# Set labels and title\n",
    "plt.title('Total Cancel Rate by Distribution Channel')\n",
    "plt.xlabel('Distribution Channel')\n",
    "plt.ylabel('Cancel Rate')\n",
    "\n",
    "# Show the plot\n",
    "plt.xticks(rotation=45)\n",
    "plt.tight_layout()  # Adjust layout to prevent label clipping\n",
    "plt.show()"
   ]
  },
  {
   "cell_type": "markdown",
   "metadata": {},
   "source": [
    "On both types of hotels, TA/TO (Travel Agents / Tour Operators) is the distribution channel with the highest cancellation rate. This makes sense, as the ease of making reservations through TA/TO encourages guests to use this channel more frequently. However, when guests need to cancel their booking, they often go through the same channel (TA/TO). Consequently, this increases the cancellation rate for reservations made through TA/TO. Therefore, it is logical that TA/TO contributes significantly to the higher cancellation rate."
   ]
  },
  {
   "cell_type": "markdown",
   "metadata": {},
   "source": [
    "## How much does guest loyalty (i.e., repeated bookings) correlate with cancellation behavior?"
   ]
  },
  {
   "cell_type": "code",
   "execution_count": 24,
   "metadata": {},
   "outputs": [
    {
     "data": {
      "image/png": "[encoded data removed]",
      "text/plain": [
       "<Figure size 700x700 with 1 Axes>"
      ]
     },
     "metadata": {},
     "output_type": "display_data"
    }
   ],
   "source": [
    "# Grouping by hotel and calculating the mean of 'is_repeated_guest' (loyal guest)\n",
    "loyalty = main_df.groupby('hotel')['is_repeated_guest'].mean().reset_index()\n",
    "\n",
    "# Pie chart: 'loyalty' values are the mean of repeated guests per hotel type\n",
    "labels = loyalty['hotel']\n",
    "sizes = loyalty['is_repeated_guest']\n",
    "\n",
    "# Creating a pie chart\n",
    "plt.figure(figsize=(7, 7))\n",
    "plt.pie(sizes, labels=labels, autopct='%1.1f%%', startangle=90, textprops={'fontsize': 12})\n",
    "plt.title('Loyal Guest Comparison Between City and Resort Hotel', fontsize=14, weight='bold', pad=20)\n",
    "plt.axis('equal')  # Equal aspect ratio ensures that pie is drawn as a circle.\n",
    "\n",
    "# Show the pie chart\n",
    "plt.show()"
   ]
  },
  {
   "cell_type": "markdown",
   "metadata": {},
   "source": [
    "As seen in the pie chart, there are fewer loyal guests in City Hotel (33.7%) compared to Resort Hotel (66.3%). This could be related to the typical customer profile of each hotel. Customers in City Hotels are likely business travelers who visit the hotel for work purposes, resulting in fewer repeat stays. On the other hand, Resort Hotels tend to attract families or vacationers who return for holiday seasons, thus fostering a higher rate of loyalty among guests. This difference in customer behavior may explain the disparity in the loyalty rates between the two hotel types."
   ]
  },
  {
   "cell_type": "markdown",
   "metadata": {},
   "source": [
    "## How have cancellation trends evolved from 2015 to 2017?"
   ]
  },
  {
   "cell_type": "code",
   "execution_count": 25,
   "metadata": {},
   "outputs": [
    {
     "data": {
      "image/png": "[encoded data removed]",
      "text/plain": [
       "<Figure size 1200x600 with 1 Axes>"
      ]
     },
     "metadata": {},
     "output_type": "display_data"
    }
   ],
   "source": [
    "# Extract 'Month Year' from 'arrival_date'\n",
    "main_df['Month Year'] = main_df['arrival_date'].dt.to_period('M')\n",
    "\n",
    "# Calculate cancel rate per month for each hotel\n",
    "cancel_trend_monthly = main_df.groupby(['hotel', 'Month Year'])['is_canceled'].sum().reset_index()\n",
    "\n",
    "# Plotting the trend\n",
    "plt.figure(figsize=(12, 6))\n",
    "\n",
    "# Plot cancel rate for each hotel\n",
    "for hotel in cancel_trend_monthly['hotel'].unique():\n",
    "    data = cancel_trend_monthly[cancel_trend_monthly['hotel'] == hotel]\n",
    "    plt.plot(data['Month Year'].dt.strftime('%b %Y'), data['is_canceled'], label=hotel)\n",
    "\n",
    "# Formatting the plot\n",
    "plt.title('Cancel Rate Trend by Month for 2015 until 2017')\n",
    "plt.xlabel('Month-Year')\n",
    "plt.ylabel('Cancel Rate')\n",
    "plt.xticks(rotation=45)\n",
    "plt.legend(title='Hotel')\n",
    "plt.grid(True)\n",
    "\n",
    "# Show the plot\n",
    "plt.tight_layout()\n",
    "plt.show()"
   ]
  },
  {
   "cell_type": "markdown",
   "metadata": {},
   "source": [
    "As seen above that the cancellation rate fluctuates over time. Specifically, there are noticeable peaks in cancellation rates at different times for each hotel type:\n",
    "\n",
    "- City Hotel: The peak cancellation rates are observed in May-June and September-October.\n",
    "\n",
    "- Resort Hotel: The peak cancellation rate is seen in August.\n",
    "\n",
    "This pattern might suggest seasonal trends, where certain times of the year have higher cancellation rates due to factors like weather, travel preferences, or holiday periods. For City Hotels, the fluctuations around May-June and September-October might relate to business travel cycles or seasonal events, while Resort Hotels could be seeing higher cancellations in August due to summer vacations or shifts in travel plans."
   ]
  },
  {
   "cell_type": "markdown",
   "metadata": {},
   "source": [
    "# Conclusion\n",
    "\n",
    "1. For Resort Hotel:\n",
    "    - The cancellation rate is 28%.\n",
    "    - Transient customer type and the TA/TO distribution channel has the highest cancellation rate\n",
    "    - The number of cancellations tends to be high in August each year.\n",
    "\n",
    "\n",
    "2. For City Hotel:\n",
    "    - The cancellation rate is 42%.\n",
    "    - Contract customer type and the TA/TO distribution channel has the highest cancellation rate.\n",
    "    - The number of cancellations tends to be high in May–June and September–October.\n",
    "\n",
    "3. The long period between booking and check-in time are affected to cancellation.\n",
    "\n",
    "4. Loyal guests tend to not cancel their booking."
   ]
  },
  {
   "cell_type": "markdown",
   "metadata": {},
   "source": [
    "# Recommendation\n",
    "\n",
    "1. Develop a loyalty program for repeat guests, offering benefits such as discounts/exclusive offers, early check-in, or free room upgrades. This could help reduce cancellations by encouraging loyal customers to return and secure bookings.\n",
    "2. Evaluate partnerships with travel agencies (TA/TO) to identify opportunities for improvement in the booking and cancellation process.\n",
    "3. Offer additional discounts or incentives for transient customers who opt for non-refundable rates to reduce cancellations.\n",
    "4. Provide options for customers to change their booking dates (re-schedule) instead of canceling outright, which can help reduce cancellations.\n",
    "5. Run targeted campaigns during peak cancellation periods (e.g., May-June and September-October) to encourage more bookings.\n",
    "6. Increase flexibility for booking changes during peak cancellation periods, offering guests more options to re-scheduling their stay instead of canceling."
   ]
  }
 ],
 "metadata": {
  "kernelspec": {
   "display_name": "base",
   "language": "python",
   "name": "python3"
  },
  "language_info": {
   "codemirror_mode": {
    "name": "ipython",
    "version": 3
   },
   "file_extension": ".py",
   "mimetype": "text/x-python",
   "name": "python",
   "nbconvert_exporter": "python",
   "pygments_lexer": "ipython3",
   "version": "3.9.21"
  }
 },
 "nbformat": 4,
 "nbformat_minor": 2
}
